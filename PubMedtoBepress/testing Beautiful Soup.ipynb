{
 "metadata": {
  "name": "",
  "signature": "sha256:975042318b883796bd5613b023c503ac6689ffc1d44f395ade8bfad5e61ec131"
 },
 "nbformat": 3,
 "nbformat_minor": 0,
 "worksheets": [
  {
   "cells": [
    {
     "cell_type": "code",
     "collapsed": false,
     "input": [
      "!pip install beautifulsoup4"
     ],
     "language": "python",
     "metadata": {},
     "outputs": [
      {
       "output_type": "stream",
       "stream": "stdout",
       "text": [
        "Requirement already satisfied (use --upgrade to upgrade): beautifulsoup4 in c:\\anaconda\\lib\\site-packages\n",
        "Cleaning up...\n"
       ]
      }
     ],
     "prompt_number": 1
    },
    {
     "cell_type": "code",
     "collapsed": false,
     "input": [
      "BeautifulSoup []\n",
      "from BeautifulSoup import BeautifulSoup\n",
      "import urllib2\n",
      " \n",
      "def getPMIDsFrom(pmid, n=20):\n",
      " \n",
      "    # Construct the url with given pmid.\n",
      "    url = 'http://www.ncbi.nlm.nih.gov/sites/entrez?db=pubmed'\\\n",
      "          '&cmd=Link&LinkName=pubmed_pubmed&from_uid=' + pmid\n",
      " \n",
      "    # Get the content of the page.\n",
      "    f = urllib2.urlopen(url)\n",
      "    page = f.read()\n",
      "    f.close()\n",
      " \n",
      "    # Parse the string.\n",
      "    soup = BeautifulSoup(page)\n",
      " \n",
      "    # Extract the paragraphs with PMID information to the list.\n",
      "    # Extract further only the PMID number, which is the second\n",
      "    # word in the string.\n",
      "    lst = []   # init -- list with results\n",
      "    for p in soup.findAll('p', { 'class': 'pmid'} ):\n",
      "        s = p.string       # step by step for didactic purpose\n",
      "        L = s.split()      # split by spaces to the list\n",
      "        s2 = L[1]          # second element of the list\n",
      "        lst.append(s2)     # add to the result list\n",
      " \n",
      "        ## The above commands could be written as one-liner.\n",
      "        ##lst.append(p.string.split()[1])  \n",
      " \n",
      "    # Get only the first n pmids, join them by space, and return.\n",
      "    return ' '.join(lst[:n])\n",
      " \n",
      " \n",
      "if __name__ == '__main__':\n",
      "    pmid = '14980218'\n",
      "    print 'input PMID =', pmid\n",
      "    print 'output:', getPMIDsFrom(pmid)"
     ],
     "language": "python",
     "metadata": {},
     "outputs": [
      {
       "ename": "SyntaxError",
       "evalue": "invalid syntax (<ipython-input-5-ea8e745f7580>, line 1)",
       "output_type": "pyerr",
       "traceback": [
        "\u001b[1;36m  File \u001b[1;32m\"<ipython-input-5-ea8e745f7580>\"\u001b[1;36m, line \u001b[1;32m1\u001b[0m\n\u001b[1;33m    BeautifulSoup []\u001b[0m\n\u001b[1;37m                   ^\u001b[0m\n\u001b[1;31mSyntaxError\u001b[0m\u001b[1;31m:\u001b[0m invalid syntax\n"
       ]
      }
     ],
     "prompt_number": 5
    },
    {
     "cell_type": "code",
     "collapsed": false,
     "input": [],
     "language": "python",
     "metadata": {},
     "outputs": []
    }
   ],
   "metadata": {}
  }
 ]
}