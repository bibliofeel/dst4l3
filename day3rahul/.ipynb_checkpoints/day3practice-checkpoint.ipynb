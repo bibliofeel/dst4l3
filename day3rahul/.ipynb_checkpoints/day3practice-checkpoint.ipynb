{
 "metadata": {
  "name": "",
  "signature": "sha256:9ff5bae5d6e58fd5213e1c18c46ce2614e502042b9c60ef89aff7a637ab2ea5e"
 },
 "nbformat": 3,
 "nbformat_minor": 0,
 "worksheets": [
  {
   "cells": [
    {
     "cell_type": "code",
     "collapsed": false,
     "input": [
      "%matplotlib inline\n",
      "import numpy as np\n",
      "import matplotlib.pyplot as plt\n",
      "import pandas as pd\n",
      "import seaborn as sns\n",
      "pd.set_option('display.width', 500)\n",
      "pd.set_option('display.max_columns', 100)"
     ],
     "language": "python",
     "metadata": {},
     "outputs": [],
     "prompt_number": 1
    },
    {
     "cell_type": "code",
     "collapsed": false,
     "input": [
      "import time, requests"
     ],
     "language": "python",
     "metadata": {},
     "outputs": [],
     "prompt_number": 2
    },
    {
     "cell_type": "markdown",
     "metadata": {},
     "source": [
      "First we'll just repeat what we did last time to make sure we have all our ducks (erm files) lined up. Its a good idea to split each analysis stage up separately and write out files,so that you are (a) generally working with local files and (b) can restart when some part of the process goes wrong from an intermediate point and not have to fetch data again...."
     ]
    },
    {
     "cell_type": "code",
     "collapsed": false,
     "input": [
      "URLSTART=\"https://www.goodreads.com\"\n",
      "BESTBOOKS=\"/list/show/1.Best_Books_Ever?page=\"\n",
      "for i in xrange(1,3):\n",
      "    bookpage=str(i)\n",
      "    stuff=requests.get(URLSTART+BESTBOOKS+bookpage)\n",
      "    filetowrite=\"page\"+ '%02d' % i + \".html\"\n",
      "    print \"FTW\", filetowrite\n",
      "    fd=open(filetowrite,\"w\")\n",
      "    fd.write(stuff.text.encode('utf-8'))\n",
      "    fd.close()\n",
      "    time.sleep(2)"
     ],
     "language": "python",
     "metadata": {},
     "outputs": [
      {
       "output_type": "stream",
       "stream": "stdout",
       "text": [
        "FTW page01.html\n",
        "FTW"
       ]
      },
      {
       "output_type": "stream",
       "stream": "stdout",
       "text": [
        " page02.html\n"
       ]
      }
     ],
     "prompt_number": 3
    },
    {
     "cell_type": "code",
     "collapsed": false,
     "input": [
      "# pq function can take a file or a string - will assume string unless give a file\n",
      "from pyquery import PyQuery as pq\n",
      "bookdict={}\n",
      "for i in xrange(1,3):\n",
      "    books=[]\n",
      "    stri = '%02d' % i\n",
      "    filetoread=\"page\"+ stri + '.html'\n",
      "    print \"FTW\", filetoread\n",
      "    d=pq(filename=filetoread)\n",
      "    for e in d('.bookTitle'):\n",
      "        # print e\n",
      "        books.append(pq(e).attr.href)\n",
      "    print books[:10]\n",
      "    bookdict[stri]=books\n",
      "    fd=open(\"list\"+stri+\".txt\",\"w\")\n",
      "    fd.write(\"\\n\".join(books))\n",
      "    fd.close()"
     ],
     "language": "python",
     "metadata": {},
     "outputs": [
      {
       "output_type": "stream",
       "stream": "stdout",
       "text": [
        "FTW page01.html\n",
        "['/book/show/2767052-the-hunger-games', '/book/show/2.Harry_Potter_and_the_Order_of_the_Phoenix', '/book/show/41865.Twilight', '/book/show/2657.To_Kill_a_Mockingbird', '/book/show/1885.Pride_and_Prejudice', '/book/show/18405.Gone_with_the_Wind', '/book/show/11127.The_Chronicles_of_Narnia', '/book/show/7613.Animal_Farm', '/book/show/370493.The_Giving_Tree', '/book/show/11.The_Hitchhiker_s_Guide_to_the_Galaxy']"
       ]
      },
      {
       "output_type": "stream",
       "stream": "stdout",
       "text": [
        "\n",
        "FTW page02.html\n",
        "['/book/show/24583.The_Adventures_of_Tom_Sawyer', '/book/show/34.The_Fellowship_of_the_Ring', '/book/show/6310.Charlie_and_the_Chocolate_Factory', '/book/show/4948.The_Very_Hungry_Caterpillar', '/book/show/9717.The_Unbearable_Lightness_of_Being', '/book/show/6900.Tuesdays_with_Morrie', '/book/show/1423.The_Compleat_Works_of_Wllm_Shkspr', '/book/show/12296.The_Scarlet_Letter', '/book/show/10365.Where_the_Red_Fern_Grows', '/book/show/256008.Lonesome_Dove']"
       ]
      },
      {
       "output_type": "stream",
       "stream": "stdout",
       "text": [
        "\n"
       ]
      }
     ],
     "prompt_number": 6
    },
    {
     "cell_type": "markdown",
     "metadata": {},
     "source": [
      "Ok so now lets dive in and get one of these these files and parse them. Lets go get the Tom Sayer url."
     ]
    },
    {
     "cell_type": "code",
     "collapsed": false,
     "input": [
      "# get1st book on 2nd page. URLSTART provides the https://www.bookreads.com\n",
      "tomurl=URLSTART+bookdict['02'][0]\n",
      "tomurl"
     ],
     "language": "python",
     "metadata": {},
     "outputs": [
      {
       "metadata": {},
       "output_type": "pyout",
       "prompt_number": 11,
       "text": [
        "'https://www.goodreads.com/book/show/24583.The_Adventures_of_Tom_Sawyer'"
       ]
      }
     ],
     "prompt_number": 11
    },
    {
     "cell_type": "code",
     "collapsed": false,
     "input": [
      "tomstuff=requests.get(tomurl)\n",
      "tomstuff.status_code"
     ],
     "language": "python",
     "metadata": {},
     "outputs": [
      {
       "metadata": {},
       "output_type": "pyout",
       "prompt_number": 13,
       "text": [
        "200"
       ]
      }
     ],
     "prompt_number": 13
    },
    {
     "cell_type": "code",
     "collapsed": false,
     "input": [
      "# you can pull as many characters as you want in order to figure out what's happening, 100 characters, 500, 2000 etc.\n",
      "# metadata in properties is usually safer than scraping header or title tags\n",
      "tomstuff.text[:2000]"
     ],
     "language": "python",
     "metadata": {},
     "outputs": [
      {
       "metadata": {},
       "output_type": "pyout",
       "prompt_number": 14,
       "text": [
        "u'<!DOCTYPE html>\\n<html class=\"desktop\">\\n\\n\\n<head prefix=\"og: http://ogp.me/ns# fb: http://ogp.me/ns/fb# good_reads: http://ogp.me/ns/fb/good_reads#\">\\n  <meta name=\"google-site-verification\" content=\"PfFjeZ9OK1RrUrKlmAPn_iZJ_vgHaZO1YQ-QlG2VsJs\" />\\n\\n  <title>The Adventures of Tom Sawyer by Mark Twain \\u2014 Reviews, Discussion, Bookclubs, Lists</title>\\n    <meta property=\"og:title\" content=\"The Adventures of Tom Sawyer\"/>\\n  <meta property=\"og:type\"  content=\"good_reads:book\"/>\\n  <meta property=\"og:url\" content=\"https://www.goodreads.com/work/best_book/41326609-the-adventures-of-tom-sawyer\"/>\\n  <meta property=\"og:site_name\" content=\"Goodreads\"/>\\n  <meta property=\"og:image\" content=\"https://p.gr-assets.com/max_square/fill/books/1404811979/24583.jpg\"/>\\n  <meta property=\"fb:app_id\" content=\"2415071772\"/>\\n  <meta property=\"og:description\" content=\"From the famous episodes of the whitewashed fence and the ordeal in the cave to the trial of Injun Joe, The Adventures of Tom Sawyer is r...\"/>\\n  <meta property=\"good_reads:isbn\" content=\"0143039563\">\\n  <meta property=\"good_reads:page_num\" content=\"231\">\\n  <meta property=\"good_reads:author\" content=\"https://www.goodreads.com/author/show/1244.Mark_Twain\">\\n    <meta property=\"al:ios:url\" content=\"com.goodreads.https://book/show/24583\">\\n    <meta property=\"al:ios:app_store_id\" content=\"355833469\">\\n    <meta property=\"al:ios:app_name\" content=\"Goodreads\">\\n\\n  <link rel=\"alternate\" href=\"android-app://com.goodreads/https/www.goodreads.com/book/show/24583.The_Adventures_of_Tom_Sawyer\">\\n\\n\\n\\n    <meta name=\"description\" content=\"The Adventures of Tom Sawyer has 392,025 ratings and 4,500 reviews. Nataliya said: I was five and a half years old when my mother gave me The Adventures ...\">\\n\\n  <meta name=\"verify-v1\" content=\"cEf8XOH0pulh1aYQeZ1gkXHsQ3dMPSyIGGYqmF53690=\">\\n  <meta name=\"apple-itunes-app\" content=\"app-id=355833469\">\\n\\n\\n\\n          <script type=\"text/javascript\">\\n        if (window.Mobvious === undefined) {\\n          window.Mobvious = {};\\n  '"
       ]
      }
     ],
     "prompt_number": 14
    },
    {
     "cell_type": "markdown",
     "metadata": {},
     "source": [
      "Lets get everything we want..."
     ]
    },
    {
     "cell_type": "code",
     "collapsed": false,
     "input": [
      "# give me the attribute content - the 2nd itemprop code counts the number of reviews - need to look at the web code\n",
      "# to understand. There are two value-title fields, one counts no of ratings and one counts no of reviews\n",
      "d=pq(tomstuff.text)\n",
      "print d(\"meta[property='og:title']\").attr('content')\n",
      "print d(\"meta[property='good_reads:isbn']\").attr('content')\n",
      "print d(\"meta[property='og:type']\").attr('content')\n",
      "print d(\"meta[property='good_reads:author']\").attr('content')\n",
      "print d(\"span.average\").text()\n",
      "print d(\"span.value-title[itemprop='ratingCount']\").attr(\"title\")\n",
      "print d(\"span.value-title[itemprop!='ratingCount']\").attr(\"title\")"
     ],
     "language": "python",
     "metadata": {},
     "outputs": [
      {
       "output_type": "stream",
       "stream": "stdout",
       "text": [
        "The Adventures of Tom Sawyer\n",
        "0143039563\n",
        "good_reads:book\n",
        "https://www.goodreads.com/author/show/1244.Mark_Twain\n",
        "3.86\n",
        "392025\n",
        "4500\n"
       ]
      }
     ],
     "prompt_number": 15
    },
    {
     "cell_type": "code",
     "collapsed": false,
     "input": [
      "!ls\n"
     ],
     "language": "python",
     "metadata": {},
     "outputs": [
      {
       "output_type": "stream",
       "stream": "stdout",
       "text": [
        "01_1885.Pride_and_Prejudice.html\r\n",
        "01_2.Harry_Potter_and_the_Order_of_the_Phoenix.html\r\n",
        "01_2657.To_Kill_a_Mockingbird.html\r\n",
        "01_2767052-the-hunger-games.html\r\n",
        "01_41865.Twilight.html\r\n",
        "02_24583.The_Adventures_of_Tom_Sawyer.html\r\n",
        "02_34.The_Fellowship_of_the_Ring.html\r\n",
        "02_4948.The_Very_Hungry_Caterpillar.html\r\n",
        "02_6310.Charlie_and_the_Chocolate_Factory.html\r\n",
        "02_9717.The_Unbearable_Lightness_of_Being.html\r\n",
        "SpreadsheetsAreCutePandas.ipynb\r\n",
        "all.csv\r\n",
        "day3practice.ipynb\r\n",
        "list01.txt\r\n",
        "list02.txt\r\n",
        "mycleaned.csv\r\n",
        "page01.html\r\n",
        "page02.html\r\n"
       ]
      }
     ],
     "prompt_number": 17
    },
    {
     "cell_type": "markdown",
     "metadata": {},
     "source": [
      "Ok, now that we know what to do, lets wrap our fetching into a proper script. So that we dont overwhelm their servers, we will only fetch 5 from each page, but you get the idea..."
     ]
    },
    {
     "cell_type": "code",
     "collapsed": false,
     "input": [
      "# use command-rightbracket to indent, command-leftbracket to go back\n",
      "# doing this for the 2 lists, list01 and list02\n",
      "# loop 4 times, get 5 from each file, then look at 2nd file, then done\n",
      "fetched=[]\n",
      "for i in xrange(1,3):\n",
      "    stri = '%02d' % i\n",
      "    with open(\"list\"+stri+\".txt\") as fd:\n",
      "        counter=0\n",
      "        for bookurl_line in fd:\n",
      "            if counter > 4:\n",
      "                break\n",
      "            bookurl=bookurl_line.strip()\n",
      "            stuff=requests.get(URLSTART+bookurl)\n",
      "            if stuff.status_code==200:\n",
      "                filetowrite=bookurl.split('/')[-1]\n",
      "                filetowrite=stri+\"_\"+filetowrite+\".html\"\n",
      "                print \"FTW\", filetowrite\n",
      "                fd=open(filetowrite,\"w\")\n",
      "                fd.write(stuff.text.encode('utf-8'))\n",
      "                fd.close()\n",
      "                fetched.append(filetowrite)\n",
      "            time.sleep(2)\n",
      "            counter=counter+1\n",
      "            \n",
      "print fetched"
     ],
     "language": "python",
     "metadata": {},
     "outputs": [
      {
       "output_type": "stream",
       "stream": "stdout",
       "text": [
        "FTW 01_2767052-the-hunger-games.html\n",
        "FTW"
       ]
      },
      {
       "output_type": "stream",
       "stream": "stdout",
       "text": [
        " 01_2.Harry_Potter_and_the_Order_of_the_Phoenix.html\n",
        "FTW"
       ]
      },
      {
       "output_type": "stream",
       "stream": "stdout",
       "text": [
        " 01_41865.Twilight.html\n",
        "FTW"
       ]
      },
      {
       "output_type": "stream",
       "stream": "stdout",
       "text": [
        " 01_2657.To_Kill_a_Mockingbird.html\n",
        "FTW"
       ]
      },
      {
       "output_type": "stream",
       "stream": "stdout",
       "text": [
        " 01_1885.Pride_and_Prejudice.html\n",
        "FTW"
       ]
      },
      {
       "output_type": "stream",
       "stream": "stdout",
       "text": [
        " 02_24583.The_Adventures_of_Tom_Sawyer.html\n",
        "FTW"
       ]
      },
      {
       "output_type": "stream",
       "stream": "stdout",
       "text": [
        " 02_34.The_Fellowship_of_the_Ring.html\n",
        "FTW"
       ]
      },
      {
       "output_type": "stream",
       "stream": "stdout",
       "text": [
        " 02_6310.Charlie_and_the_Chocolate_Factory.html\n",
        "FTW"
       ]
      },
      {
       "output_type": "stream",
       "stream": "stdout",
       "text": [
        " 02_4948.The_Very_Hungry_Caterpillar.html\n",
        "FTW"
       ]
      },
      {
       "output_type": "stream",
       "stream": "stdout",
       "text": [
        " 02_9717.The_Unbearable_Lightness_of_Being.html\n",
        "['01_2767052-the-hunger-games.html', '01_2.Harry_Potter_and_the_Order_of_the_Phoenix.html', '01_41865.Twilight.html', '01_2657.To_Kill_a_Mockingbird.html', '01_1885.Pride_and_Prejudice.html', '02_24583.The_Adventures_of_Tom_Sawyer.html', '02_34.The_Fellowship_of_the_Ring.html', '02_6310.Charlie_and_the_Chocolate_Factory.html', '02_4948.The_Very_Hungry_Caterpillar.html', '02_9717.The_Unbearable_Lightness_of_Being.html']"
       ]
      },
      {
       "output_type": "stream",
       "stream": "stdout",
       "text": [
        "\n"
       ]
      }
     ],
     "prompt_number": 19
    },
    {
     "cell_type": "markdown",
     "metadata": {},
     "source": [
      "Lets parse each item we fetched. The code to get the year is complex..see the shakespeare case as to why. For now dont worry about understanding the else part: that is homework..."
     ]
    },
    {
     "cell_type": "code",
     "collapsed": false,
     "input": [
      "!ls"
     ],
     "language": "python",
     "metadata": {},
     "outputs": [
      {
       "output_type": "stream",
       "stream": "stdout",
       "text": [
        "01_1885.Pride_and_Prejudice.html\r\n",
        "01_2.Harry_Potter_and_the_Order_of_the_Phoenix.html\r\n",
        "01_2657.To_Kill_a_Mockingbird.html\r\n",
        "01_2767052-the-hunger-games.html\r\n",
        "01_41865.Twilight.html\r\n",
        "02_24583.The_Adventures_of_Tom_Sawyer.html\r\n",
        "02_34.The_Fellowship_of_the_Ring.html\r\n",
        "02_4948.The_Very_Hungry_Caterpillar.html\r\n",
        "02_6310.Charlie_and_the_Chocolate_Factory.html\r\n",
        "02_9717.The_Unbearable_Lightness_of_Being.html\r\n",
        "SpreadsheetsAreCutePandas.ipynb\r\n",
        "all.csv\r\n",
        "day3practice.ipynb\r\n",
        "list01.txt\r\n",
        "list02.txt\r\n",
        "mycleaned.csv\r\n",
        "page01.html\r\n",
        "page02.html\r\n"
       ]
      }
     ],
     "prompt_number": 20
    },
    {
     "cell_type": "code",
     "collapsed": false,
     "input": [
      "# creating a dictionary called td (for third dict?)\n",
      "# importing a regular expression - for some books the year was in multiple places, which made this really complicated\n",
      "# because published in multiple versions, reprinted. We want the first published date.\n",
      "# if you can avoid regular expressions, avoid them.\n",
      "import re\n",
      "yearre = r'\\d{4}'\n",
      "listofdicts=[]\n",
      "for filetoread in fetched:\n",
      "    td={}\n",
      "    d=pq(filename=filetoread)\n",
      "    td['title']=d(\"meta[property='og:title']\").attr('content')\n",
      "    td['isbn']=d(\"meta[property='good_reads:isbn']\").attr('content')\n",
      "    td['booktype']=d(\"meta[property='og:type']\").attr('content')\n",
      "    td['author']=d(\"meta[property='good_reads:author']\").attr('content')\n",
      "    td['rating']=d(\"span.average\").text()\n",
      "    td['ratingCount']=d(\"span.value-title[itemprop='ratingCount']\").attr(\"title\")\n",
      "    td['reviewCount']=d(\"span.value-title[itemprop!='ratingCount']\").attr(\"title\")\n",
      "    if d(\"nobr.greyText\").text().strip()!=\"\":\n",
      "        td['year']=d(\"nobr.greyText\").text().strip().split()[-1][:-1] # everything but last char to get rid of parenthesis\n",
      "    else:\n",
      "        thetext=d(\"div#details div.row\").eq(1).text().strip()\n",
      "        rowmatch=re.findall(yearre, thetext)\n",
      "        if len(rowmatch) > 0:\n",
      "            rowtext=rowmatch[0].strip()\n",
      "        else:\n",
      "            rowtext=\"NA\"\n",
      "        td['year']=rowtext\n",
      "    td['file']=filetoread\n",
      "    genres=d(\"div.elementList div.left a\")\n",
      "    glist=[]\n",
      "    for g in genres:\n",
      "        glist.append(pq(g).attr('href'))\n",
      "    td['genres']=\"|\".join(glist)\n",
      "    listofdicts.append(td)"
     ],
     "language": "python",
     "metadata": {},
     "outputs": [],
     "prompt_number": 23
    },
    {
     "cell_type": "code",
     "collapsed": false,
     "input": [
      "listofdicts[0]"
     ],
     "language": "python",
     "metadata": {},
     "outputs": [
      {
       "metadata": {},
       "output_type": "pyout",
       "prompt_number": 24,
       "text": [
        "{'author': 'https://www.goodreads.com/author/show/153394.Suzanne_Collins',\n",
        " 'booktype': 'good_reads:book',\n",
        " 'file': '01_2767052-the-hunger-games.html',\n",
        " 'genres': '/genres/young-adult|/genres/fiction|/genres/science-fiction|/genres/dystopia|/genres/fantasy|/genres/science-fiction|/genres/romance|/genres/adventure|/genres/book-club|/genres/young-adult|/genres/teen|/genres/apocalyptic|/genres/post-apocalyptic',\n",
        " 'isbn': '0439023483',\n",
        " 'rating': '4.40',\n",
        " 'ratingCount': '3011421',\n",
        " 'reviewCount': '137085',\n",
        " 'title': 'The Hunger Games (The Hunger Games, #1)',\n",
        " 'year': '2008'}"
       ]
      }
     ],
     "prompt_number": 24
    },
    {
     "cell_type": "markdown",
     "metadata": {},
     "source": [
      "Finally lets write all this stuff into a csv file which we will use to do analysis. Can also use pandas to do this as in input 27. Input 25 and 27 do same thing."
     ]
    },
    {
     "cell_type": "code",
     "collapsed": false,
     "input": [
      "import csv\n",
      "f = open('meta.csv','w')\n",
      "w = csv.DictWriter(f,listofdicts[0].keys())\n",
      "for i,D in enumerate(listofdicts):\n",
      "    listofdicts[i]={k:('None' if v==None else v.encode(\"utf-8\")) for k,v in D.items()}\n",
      "w.writerows(listofdicts)\n",
      "f.close()"
     ],
     "language": "python",
     "metadata": {},
     "outputs": [],
     "prompt_number": 25
    },
    {
     "cell_type": "code",
     "collapsed": false,
     "input": [
      "df=pd.DataFrame.from_dict(listofdicts)\n",
      "df.to_csv(\"meta.csv\", index=False)\n",
      "df.head()"
     ],
     "language": "python",
     "metadata": {},
     "outputs": [
      {
       "html": [
        "<div style=\"max-height:1000px;max-width:1500px;overflow:auto;\">\n",
        "<table border=\"1\" class=\"dataframe\">\n",
        "  <thead>\n",
        "    <tr style=\"text-align: right;\">\n",
        "      <th></th>\n",
        "      <th>author</th>\n",
        "      <th>booktype</th>\n",
        "      <th>file</th>\n",
        "      <th>genres</th>\n",
        "      <th>isbn</th>\n",
        "      <th>rating</th>\n",
        "      <th>ratingCount</th>\n",
        "      <th>reviewCount</th>\n",
        "      <th>title</th>\n",
        "      <th>year</th>\n",
        "    </tr>\n",
        "  </thead>\n",
        "  <tbody>\n",
        "    <tr>\n",
        "      <th>0</th>\n",
        "      <td> https://www.goodreads.com/author/show/153394.S...</td>\n",
        "      <td> good_reads:book</td>\n",
        "      <td>                  01_2767052-the-hunger-games.html</td>\n",
        "      <td> /genres/young-adult|/genres/fiction|/genres/sc...</td>\n",
        "      <td> 0439023483</td>\n",
        "      <td> 4.40</td>\n",
        "      <td> 3011421</td>\n",
        "      <td> 137085</td>\n",
        "      <td>           The Hunger Games (The Hunger Games, #1)</td>\n",
        "      <td> 2008</td>\n",
        "    </tr>\n",
        "    <tr>\n",
        "      <th>1</th>\n",
        "      <td> https://www.goodreads.com/author/show/1077326....</td>\n",
        "      <td> good_reads:book</td>\n",
        "      <td> 01_2.Harry_Potter_and_the_Order_of_the_Phoenix...</td>\n",
        "      <td> /genres/fantasy|/genres/young-adult|/genres/fi...</td>\n",
        "      <td> 0439358078</td>\n",
        "      <td> 4.41</td>\n",
        "      <td> 1300195</td>\n",
        "      <td>  16810</td>\n",
        "      <td> Harry Potter and the Order of the Phoenix (Har...</td>\n",
        "      <td> 2003</td>\n",
        "    </tr>\n",
        "    <tr>\n",
        "      <th>2</th>\n",
        "      <td> https://www.goodreads.com/author/show/941441.S...</td>\n",
        "      <td> good_reads:book</td>\n",
        "      <td>                            01_41865.Twilight.html</td>\n",
        "      <td> /genres/young-adult|/genres/fantasy|/genres/ro...</td>\n",
        "      <td> 0316015849</td>\n",
        "      <td> 3.56</td>\n",
        "      <td> 2616657</td>\n",
        "      <td>  85936</td>\n",
        "      <td>                           Twilight (Twilight, #1)</td>\n",
        "      <td> 2005</td>\n",
        "    </tr>\n",
        "    <tr>\n",
        "      <th>3</th>\n",
        "      <td> https://www.goodreads.com/author/show/1825.Har...</td>\n",
        "      <td> good_reads:book</td>\n",
        "      <td>                01_2657.To_Kill_a_Mockingbird.html</td>\n",
        "      <td> /genres/classics|/genres/historical-fiction|/g...</td>\n",
        "      <td> 0061120081</td>\n",
        "      <td> 4.23</td>\n",
        "      <td> 2095745</td>\n",
        "      <td>  48334</td>\n",
        "      <td>                             To Kill a Mockingbird</td>\n",
        "      <td> 1960</td>\n",
        "    </tr>\n",
        "    <tr>\n",
        "      <th>4</th>\n",
        "      <td> https://www.goodreads.com/author/show/1265.Jan...</td>\n",
        "      <td> good_reads:book</td>\n",
        "      <td>                  01_1885.Pride_and_Prejudice.html</td>\n",
        "      <td> /genres/classics|/genres/fiction|/genres/roman...</td>\n",
        "      <td> 0679783261</td>\n",
        "      <td> 4.23</td>\n",
        "      <td> 1406267</td>\n",
        "      <td>  34982</td>\n",
        "      <td>                               Pride and Prejudice</td>\n",
        "      <td> 1813</td>\n",
        "    </tr>\n",
        "  </tbody>\n",
        "</table>\n",
        "</div>"
       ],
       "metadata": {},
       "output_type": "pyout",
       "prompt_number": 27,
       "text": [
        "                                              author         booktype                                               file                                             genres        isbn rating ratingCount reviewCount                                              title  year\n",
        "0  https://www.goodreads.com/author/show/153394.S...  good_reads:book                   01_2767052-the-hunger-games.html  /genres/young-adult|/genres/fiction|/genres/sc...  0439023483   4.40     3011421      137085            The Hunger Games (The Hunger Games, #1)  2008\n",
        "1  https://www.goodreads.com/author/show/1077326....  good_reads:book  01_2.Harry_Potter_and_the_Order_of_the_Phoenix...  /genres/fantasy|/genres/young-adult|/genres/fi...  0439358078   4.41     1300195       16810  Harry Potter and the Order of the Phoenix (Har...  2003\n",
        "2  https://www.goodreads.com/author/show/941441.S...  good_reads:book                             01_41865.Twilight.html  /genres/young-adult|/genres/fantasy|/genres/ro...  0316015849   3.56     2616657       85936                            Twilight (Twilight, #1)  2005\n",
        "3  https://www.goodreads.com/author/show/1825.Har...  good_reads:book                 01_2657.To_Kill_a_Mockingbird.html  /genres/classics|/genres/historical-fiction|/g...  0061120081   4.23     2095745       48334                              To Kill a Mockingbird  1960\n",
        "4  https://www.goodreads.com/author/show/1265.Jan...  good_reads:book                   01_1885.Pride_and_Prejudice.html  /genres/classics|/genres/fiction|/genres/roman...  0679783261   4.23     1406267       34982                                Pride and Prejudice  1813"
       ]
      }
     ],
     "prompt_number": 27
    },
    {
     "cell_type": "code",
     "collapsed": false,
     "input": [
      "!ls"
     ],
     "language": "python",
     "metadata": {},
     "outputs": [
      {
       "output_type": "stream",
       "stream": "stdout",
       "text": [
        "01_1885.Pride_and_Prejudice.html\r\n",
        "01_2.Harry_Potter_and_the_Order_of_the_Phoenix.html\r\n",
        "01_2657.To_Kill_a_Mockingbird.html\r\n",
        "01_2767052-the-hunger-games.html\r\n",
        "01_41865.Twilight.html\r\n",
        "02_24583.The_Adventures_of_Tom_Sawyer.html\r\n",
        "02_34.The_Fellowship_of_the_Ring.html\r\n",
        "02_4948.The_Very_Hungry_Caterpillar.html\r\n",
        "02_6310.Charlie_and_the_Chocolate_Factory.html\r\n",
        "02_9717.The_Unbearable_Lightness_of_Being.html\r\n",
        "SpreadsheetsAreCutePandas.ipynb\r\n",
        "all.csv\r\n",
        "day3practice.ipynb\r\n",
        "list01.txt\r\n",
        "list02.txt\r\n",
        "meta.csv\r\n",
        "mycleaned.csv\r\n",
        "page01.html\r\n",
        "page02.html\r\n"
       ]
      }
     ],
     "prompt_number": 28
    },
    {
     "cell_type": "code",
     "collapsed": false,
     "input": [],
     "language": "python",
     "metadata": {},
     "outputs": []
    }
   ],
   "metadata": {}
  }
 ]
}